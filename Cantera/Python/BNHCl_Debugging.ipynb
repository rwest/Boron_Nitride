{
 "cells": [
  {
   "cell_type": "code",
   "execution_count": 1,
   "id": "1eb3a353",
   "metadata": {},
   "outputs": [],
   "source": [
    "import cantera as ct"
   ]
  },
  {
   "cell_type": "code",
   "execution_count": 2,
   "id": "a9403c26",
   "metadata": {},
   "outputs": [],
   "source": [
    "fname = '/home/ssun30/Work/Boron_Nitride/YAML_Files/BNHCL-Allendorf1997_NASA7.yaml';\n",
    "phasename = 'gas';"
   ]
  },
  {
   "cell_type": "code",
   "execution_count": 3,
   "id": "0a31cfd7",
   "metadata": {},
   "outputs": [
    {
     "name": "stdout",
     "output_type": "stream",
     "text": [
      "\n",
      "  gas:\n",
      "\n",
      "       temperature   1073 K\n",
      "          pressure   133 Pa\n",
      "           density   0.00019424 kg/m^3\n",
      "  mean mol. weight   13.029 kg/kmol\n",
      "   phase of matter   gas\n",
      "\n",
      "                          1 kg             1 kmol     \n",
      "                     ---------------   ---------------\n",
      "          enthalpy       -8.0167e+05       -1.0445e+07  J\n",
      "   internal energy       -1.4864e+06       -1.9367e+07  J\n",
      "           entropy             19652        2.5605e+05  J/K\n",
      "    Gibbs function       -2.1888e+07       -2.8519e+08  J\n",
      " heat capacity c_p            2901.7             37808  J/K\n",
      " heat capacity c_v            2263.6             29493  J/K\n",
      "\n",
      "                      mass frac. Y      mole frac. X     chem. pot. / RT\n",
      "                     ---------------   ---------------   ---------------\n",
      "              BCl3           0.71936              0.08           -94.308\n",
      "               NH3           0.15686              0.12           -39.903\n",
      "                H2           0.12378               0.8           -24.543\n",
      "     [  +41 minor]                 0                 0  \n",
      "\n"
     ]
    }
   ],
   "source": [
    "g1 = ct.Solution(fname, phasename)\n",
    "g1()"
   ]
  },
  {
   "cell_type": "code",
   "execution_count": 4,
   "id": "b5a596d6",
   "metadata": {},
   "outputs": [
    {
     "name": "stdout",
     "output_type": "stream",
     "text": [
      "\n",
      "  gas:\n",
      "\n",
      "       temperature   1200 K\n",
      "          pressure   1.0133e+05 Pa\n",
      "           density   0.13232 kg/m^3\n",
      "  mean mol. weight   13.029 kg/kmol\n",
      "   phase of matter   gas\n",
      "\n",
      "                          1 kg             1 kmol     \n",
      "                     ---------------   ---------------\n",
      "          enthalpy       -4.2911e+05       -5.5911e+06  J\n",
      "   internal energy       -1.1949e+06       -1.5568e+07  J\n",
      "           entropy             15746        2.0516e+05  J/K\n",
      "    Gibbs function       -1.9324e+07       -2.5178e+08  J\n",
      " heat capacity c_p            2964.5             38626  J/K\n",
      " heat capacity c_v            2326.4             30311  J/K\n",
      "\n",
      "                      mass frac. Y      mole frac. X     chem. pot. / RT\n",
      "                     ---------------   ---------------   ---------------\n",
      "              BCl3           0.71936              0.08           -83.629\n",
      "               NH3           0.15686              0.12           -33.201\n",
      "                H2           0.12378               0.8           -18.201\n",
      "     [  +41 minor]                 0                 0  \n",
      "\n"
     ]
    }
   ],
   "source": [
    "g1.TP = 1200, 101325\n",
    "g1()"
   ]
  },
  {
   "cell_type": "code",
   "execution_count": 5,
   "id": "51f91503",
   "metadata": {},
   "outputs": [
    {
     "name": "stdout",
     "output_type": "stream",
     "text": [
      "\n",
      "  gas:\n",
      "\n",
      "       temperature   5000 K\n",
      "          pressure   1.0132e+05 Pa\n",
      "           density   0.031757 kg/m^3\n",
      "  mean mol. weight   13.029 kg/kmol\n",
      "   phase of matter   gas\n",
      "\n",
      "                          1 kg             1 kmol     \n",
      "                     ---------------   ---------------\n",
      "          enthalpy        1.2746e+07        1.6607e+08  J\n",
      "   internal energy        9.5554e+06         1.245e+08  J\n",
      "           entropy             20566        2.6796e+05  J/K\n",
      "    Gibbs function       -9.0082e+07       -1.1737e+09  J\n",
      " heat capacity c_p            3688.7             48062  J/K\n",
      " heat capacity c_v            3050.6             39747  J/K\n",
      "\n",
      "                      mass frac. Y      mole frac. X     chem. pot. / RT\n",
      "                     ---------------   ---------------   ---------------\n",
      "              BCl3           0.71936              0.08           -64.652\n",
      "               NH3           0.15686              0.12           -38.814\n",
      "                H2           0.12378               0.8           -23.004\n",
      "     [  +41 minor]                 0                 0  \n",
      "\n"
     ]
    }
   ],
   "source": [
    "g1.TP = 5000, 101325\n",
    "g1()"
   ]
  },
  {
   "cell_type": "code",
   "execution_count": 6,
   "id": "1a121169",
   "metadata": {},
   "outputs": [
    {
     "name": "stdout",
     "output_type": "stream",
     "text": [
      "\n",
      "  gri30:\n",
      "\n",
      "       temperature   300 K\n",
      "          pressure   1.0133e+05 Pa\n",
      "           density   0.081894 kg/m^3\n",
      "  mean mol. weight   2.016 kg/kmol\n",
      "   phase of matter   gas\n",
      "\n",
      "                          1 kg             1 kmol     \n",
      "                     ---------------   ---------------\n",
      "          enthalpy             26469             53361  J\n",
      "   internal energy       -1.2108e+06        -2.441e+06  J\n",
      "           entropy             64910        1.3086e+05  J/K\n",
      "    Gibbs function       -1.9447e+07       -3.9204e+07  J\n",
      " heat capacity c_p             14311             28851  J/K\n",
      " heat capacity c_v             10187             20536  J/K\n",
      "\n",
      "                      mass frac. Y      mole frac. X     chem. pot. / RT\n",
      "                     ---------------   ---------------   ---------------\n",
      "                H2                 1                 1           -15.717\n",
      "     [  +52 minor]                 0                 0  \n",
      "\n"
     ]
    }
   ],
   "source": [
    "g2 = ct.Solution('gri30.yaml')\n",
    "g2()"
   ]
  },
  {
   "cell_type": "code",
   "execution_count": 7,
   "id": "89f656a9",
   "metadata": {},
   "outputs": [
    {
     "name": "stdout",
     "output_type": "stream",
     "text": [
      "300.0\n",
      "3000.0\n"
     ]
    }
   ],
   "source": [
    "print(g2.min_temp)\n",
    "print(g2.max_temp)"
   ]
  },
  {
   "cell_type": "code",
   "execution_count": 8,
   "id": "e5201293",
   "metadata": {},
   "outputs": [
    {
     "name": "stdout",
     "output_type": "stream",
     "text": [
      "\n",
      "  gri30:\n",
      "\n",
      "       temperature   1200 K\n",
      "          pressure   1.0133e+05 Pa\n",
      "           density   0.020473 kg/m^3\n",
      "  mean mol. weight   2.016 kg/kmol\n",
      "   phase of matter   gas\n",
      "\n",
      "                          1 kg             1 kmol     \n",
      "                     ---------------   ---------------\n",
      "          enthalpy        1.3295e+07        2.6802e+07  J\n",
      "   internal energy        8.3457e+06        1.6825e+07  J\n",
      "           entropy             85222        1.7181e+05  J/K\n",
      "    Gibbs function       -8.8972e+07       -1.7937e+08  J\n",
      " heat capacity c_p             15377             31000  J/K\n",
      " heat capacity c_v             11253             22686  J/K\n",
      "\n",
      "                      mass frac. Y      mole frac. X     chem. pot. / RT\n",
      "                     ---------------   ---------------   ---------------\n",
      "                H2                 1                 1           -17.978\n",
      "     [  +52 minor]                 0                 0  \n",
      "\n"
     ]
    }
   ],
   "source": [
    "g2.TP = 1200, 101325\n",
    "g2()"
   ]
  },
  {
   "cell_type": "code",
   "execution_count": 10,
   "id": "acf2b066",
   "metadata": {},
   "outputs": [
    {
     "name": "stdout",
     "output_type": "stream",
     "text": [
      "\n",
      "  gri30:\n",
      "\n",
      "       temperature   5000 K\n",
      "          pressure   1.0132e+05 Pa\n",
      "           density   0.0049136 kg/m^3\n",
      "  mean mol. weight   2.016 kg/kmol\n",
      "   phase of matter   gas\n",
      "\n",
      "                          1 kg             1 kmol     \n",
      "                     ---------------   ---------------\n",
      "          enthalpy        8.4085e+07        1.6952e+08  J\n",
      "   internal energy        6.3464e+07        1.2794e+08  J\n",
      "           entropy        1.1079e+05        2.2335e+05  J/K\n",
      "    Gibbs function       -4.6985e+08       -9.4722e+08  J\n",
      " heat capacity c_p             23289             46951  J/K\n",
      " heat capacity c_v             19165             38636  J/K\n",
      "\n",
      "                      mass frac. Y      mole frac. X     chem. pot. / RT\n",
      "                     ---------------   ---------------   ---------------\n",
      "                H2                 1                 1           -22.785\n",
      "     [  +52 minor]                 0                 0  \n",
      "\n"
     ]
    }
   ],
   "source": [
    "g2.TP = 5000, 101325\n",
    "g2()"
   ]
  },
  {
   "cell_type": "code",
   "execution_count": null,
   "id": "4a1e907d",
   "metadata": {},
   "outputs": [],
   "source": []
  }
 ],
 "metadata": {
  "kernelspec": {
   "display_name": "Python 3 (ipykernel)",
   "language": "python",
   "name": "python3"
  },
  "language_info": {
   "codemirror_mode": {
    "name": "ipython",
    "version": 3
   },
   "file_extension": ".py",
   "mimetype": "text/x-python",
   "name": "python",
   "nbconvert_exporter": "python",
   "pygments_lexer": "ipython3",
   "version": "3.10.8"
  }
 },
 "nbformat": 4,
 "nbformat_minor": 5
}
