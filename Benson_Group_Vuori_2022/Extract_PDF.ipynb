{
 "cells": [
  {
   "cell_type": "code",
   "execution_count": 1,
   "id": "fc21cef1-66f5-4c23-bbc2-1737e89460ad",
   "metadata": {},
   "outputs": [],
   "source": [
    "from tabula import read_pdf\n",
    "from tabulate import tabulate\n",
    "import pandas as pd\n",
    "\n",
    "pd.set_option('display.max_rows', None)\n",
    "pd.set_option('display.max_columns', None)"
   ]
  },
  {
   "cell_type": "code",
   "execution_count": 2,
   "id": "48b55b9e-6fa3-4216-9fcc-431f2a16e1e8",
   "metadata": {},
   "outputs": [],
   "source": [
    "fname1 = \"original_paper.pdf\"\n",
    "fname2 = \"supplemental_info.pdf\""
   ]
  },
  {
   "cell_type": "code",
   "execution_count": 3,
   "id": "dd3533c2-41c8-4e7b-8e1d-d27c59e3492b",
   "metadata": {},
   "outputs": [],
   "source": [
    "table1 = read_pdf(fname1, pages = 4, area = [110, 10, 700, 700])\n",
    "table1 = table1[0]"
   ]
  },
  {
   "cell_type": "code",
   "execution_count": 4,
   "id": "b4a280a9-9eb3-49c6-befd-8d6c094d4524",
   "metadata": {},
   "outputs": [],
   "source": [
    "table1[['Molecule', 'Chemical Formula']] = table1['Molecule Chemical formula'].str.split(n=1, expand = True)\n",
    "table1.drop(columns = ['Molecule Chemical formula'], inplace = True)\n",
    "column_order = ['Molecule', 'Chemical Formula'] + [col for col in table1.columns if col not in ['Molecule', 'Chemical Formula']]\n",
    "table1 = table1[column_order]\n",
    "table1.dropna(axis = 1, inplace = True)"
   ]
  },
  {
   "cell_type": "code",
   "execution_count": 5,
   "id": "7cd3965d-9982-4ec9-87be-746cc15d7f81",
   "metadata": {},
   "outputs": [],
   "source": [
    "table2 = read_pdf(fname1, pages = 5, area = [85, 10, 570, 700])\n",
    "table2 = table2[0]"
   ]
  },
  {
   "cell_type": "code",
   "execution_count": 6,
   "id": "5b723e13-66a9-466f-8461-c1ad0257153f",
   "metadata": {},
   "outputs": [],
   "source": [
    "table2[['Molecule', 'Chemical Formula']] = table2['aMolecule Chemical formula'].str.split(n=1, expand = True)\n",
    "table2.drop(columns = ['aMolecule Chemical formula'], inplace = True)\n",
    "column_order = ['Molecule', 'Chemical Formula'] + [col for col in table2.columns if col not in ['Molecule', 'Chemical Formula']]\n",
    "table2 = table2[column_order]\n",
    "table2.dropna(axis = 1, inplace = True)"
   ]
  },
  {
   "cell_type": "code",
   "execution_count": 7,
   "id": "a4a03b42-b016-432f-8b31-6cbd3139b6ed",
   "metadata": {},
   "outputs": [],
   "source": [
    "combined_table1 = pd.concat([table1, table2], ignore_index = True)\n",
    "combined_table1.rename(columns = {'Chemical formula': 'Chemical Formula', 'W1X-1': 'dHf-298K', 'W1X-1.1': 'S-298K', 'W1X-1.2': 'Cp-298K', 'W1X-1.3': 'Cp-500K', 'W1X-1.4': 'Cp-1000K'}, inplace = True)\n",
    "combined_table1.drop(columns = ['CBS-QB3'], inplace = True)"
   ]
  },
  {
   "cell_type": "code",
   "execution_count": 8,
   "id": "c9923319-39b6-4195-b3d7-0fea15e2dc21",
   "metadata": {},
   "outputs": [],
   "source": [
    "table3 = read_pdf(fname2, pages = 6, area = [120, 10, 720, 700])\n",
    "table3 = table3[0]\n",
    "table3 = table3.dropna(axis = 1, how = 'all')"
   ]
  },
  {
   "cell_type": "code",
   "execution_count": 9,
   "id": "5ec248b2-8d48-4ef3-8da5-66d81518320a",
   "metadata": {},
   "outputs": [],
   "source": [
    "table4 = read_pdf(fname2, pages = 7, area = [100, 10, 720, 700])\n",
    "table4 = table4[0]\n",
    "table4 = table4.dropna(axis = 1, how = 'all')"
   ]
  },
  {
   "cell_type": "code",
   "execution_count": 10,
   "id": "be4dad32-c234-4028-98fe-8c3bb81f38fa",
   "metadata": {},
   "outputs": [],
   "source": [
    "table5 = read_pdf(fname2, pages = 8, area = [100, 10, 230, 700])\n",
    "table5 = table5[0]\n",
    "table5 = table5.dropna(axis = 1, how = 'all')"
   ]
  },
  {
   "cell_type": "code",
   "execution_count": 11,
   "id": "43637cc0-b100-4535-b095-831173753337",
   "metadata": {},
   "outputs": [],
   "source": [
    "combined_table2 = pd.concat([table3, table4, table5], ignore_index = True)\n",
    "combined_table2.drop(combined_table2.columns[[2,3]], axis = 1, inplace = True)\n",
    "combined_table2.rename(columns = {'Chemical Formulaa': 'Chemical Formula'}, inplace = True)\n",
    "combined_table2.rename(columns = {combined_table2.columns[4]: 'dH 0-298K', combined_table2.columns[5]: 'dHf-298K'}, inplace = True)"
   ]
  },
  {
   "cell_type": "code",
   "execution_count": 19,
   "id": "51aae2af-10bf-4813-a934-941d40eac9ec",
   "metadata": {
    "scrolled": true
   },
   "outputs": [],
   "source": [
    "combined_table1.replace('\\u2013', '\\u002d', regex = True, inplace = True)\n",
    "combined_table2.replace('\\u2013', '\\u002d', regex = True, inplace = True)\n",
    "combined_table1.to_csv('table1.csv', index = False, encoding = 'utf-8-sig')\n",
    "combined_table2.to_csv('table2.csv', index = False, encoding = 'utf-8-sig')"
   ]
  },
  {
   "cell_type": "code",
   "execution_count": null,
   "id": "9277bd30-4947-4e72-9eba-e2180bf75215",
   "metadata": {},
   "outputs": [],
   "source": []
  }
 ],
 "metadata": {
  "kernelspec": {
   "display_name": "Python 3 (ipykernel)",
   "language": "python",
   "name": "python3"
  },
  "language_info": {
   "codemirror_mode": {
    "name": "ipython",
    "version": 3
   },
   "file_extension": ".py",
   "mimetype": "text/x-python",
   "name": "python",
   "nbconvert_exporter": "python",
   "pygments_lexer": "ipython3",
   "version": "3.10.12"
  }
 },
 "nbformat": 4,
 "nbformat_minor": 5
}
