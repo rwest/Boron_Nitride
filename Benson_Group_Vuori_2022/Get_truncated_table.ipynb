{
 "cells": [
  {
   "cell_type": "code",
   "execution_count": 16,
   "metadata": {},
   "outputs": [],
   "source": [
    "import pandas as pd\n",
    "import os"
   ]
  },
  {
   "cell_type": "code",
   "execution_count": 17,
   "metadata": {},
   "outputs": [],
   "source": [
    "# File paths\n",
    "smiles_path = os.path.join(os.getcwd(), 'smiles.txt')\n",
    "table_path = os.path.join(os.getcwd(), 'table1.csv')\n",
    "output_path = os.path.join(os.getcwd(), 'Vuori.csv')"
   ]
  },
  {
   "cell_type": "code",
   "execution_count": 18,
   "metadata": {},
   "outputs": [],
   "source": [
    "# Read the smiles.txt file\n",
    "with open(smiles_path, 'r') as f:\n",
    "    smiles_data = f.read().strip().split('\\n\\n')\n",
    "\n",
    "# Parse the smiles.txt data\n",
    "smiles_list = []\n",
    "for entry in smiles_data:\n",
    "    lines = entry.split('\\n')\n",
    "    molecule_number = lines[0]\n",
    "    molecule_name = lines[1]\n",
    "    smiles_string = lines[2]\n",
    "    smiles_list.append((molecule_number, molecule_name, smiles_string))"
   ]
  },
  {
   "cell_type": "code",
   "execution_count": 19,
   "metadata": {},
   "outputs": [],
   "source": [
    "# Read the table1.csv file\n",
    "table_df = pd.read_csv(table_path)\n",
    "\n",
    "# Add a new column for SMILES in the DataFrame\n",
    "table_df['SMILES'] = ''\n",
    "\n",
    "# Create an empty DataFrame for the matching rows\n",
    "new_entries = pd.DataFrame(columns=table_df.columns)"
   ]
  },
  {
   "cell_type": "code",
   "execution_count": 20,
   "metadata": {},
   "outputs": [],
   "source": [
    "# Iterate through the smiles list and update the DataFrame\n",
    "for molecule_number, molecule_name, smiles_string in smiles_list:\n",
    "    # Find the matching row\n",
    "    match = table_df['Molecule'] == molecule_number\n",
    "    if match.any():\n",
    "        # Update the SMILES column\n",
    "        table_df.loc[match, 'SMILES'] = smiles_string\n",
    "        new_entries = pd.concat([new_entries, table_df.loc[match]])\n",
    "\n",
    "# Write the matching rows to a new CSV file\n",
    "new_entries.to_csv(output_path, index=False)"
   ]
  },
  {
   "cell_type": "code",
   "execution_count": null,
   "metadata": {},
   "outputs": [],
   "source": []
  }
 ],
 "metadata": {
  "kernelspec": {
   "display_name": "rmg_env_boron",
   "language": "python",
   "name": "python3"
  },
  "language_info": {
   "codemirror_mode": {
    "name": "ipython",
    "version": 3
   },
   "file_extension": ".py",
   "mimetype": "text/x-python",
   "name": "python",
   "nbconvert_exporter": "python",
   "pygments_lexer": "ipython3",
   "version": "3.7.12"
  }
 },
 "nbformat": 4,
 "nbformat_minor": 2
}
