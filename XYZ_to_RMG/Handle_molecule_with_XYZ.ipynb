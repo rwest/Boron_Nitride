{
 "cells": [
  {
   "cell_type": "markdown",
   "metadata": {},
   "source": [
    "# A Demo of using RDMC with XYZs\n",
    "Author: Xiaorui Dong\n",
    "\n",
    "This notebook demonstrates how RDMC handles XYZ. Molecules can be perceived by using [openbabel](http://openbabel.org/wiki/Main_Page) / [xyz2mol](https://github.com/jensengroup/xyz2mol). The created molecule can be visualized by `mol_viewer` and exported to xyz format."
   ]
  },
  {
   "cell_type": "code",
   "execution_count": 1,
   "metadata": {},
   "outputs": [
    {
     "name": "stderr",
     "output_type": "stream",
     "text": [
      "[15:10:27] WARNING: not removing hydrogen atom without neighbors\n"
     ]
    }
   ],
   "source": [
    "from rdmc.mol import Mol\n",
    "from rdtools.view import mol_viewer\n",
    "from rdkit.Chem.Draw import IPythonConsole\n",
    "from rdtools.fix import fix_mol, saturate_mol, remedy_manager"
   ]
  },
  {
   "cell_type": "markdown",
   "metadata": {},
   "source": [
    "## 1. An example of XYZ block"
   ]
  },
  {
   "cell_type": "code",
   "execution_count": 2,
   "metadata": {},
   "outputs": [],
   "source": [
    "######################################\n",
    "# INPUT\n",
    "xyz=\"\"\"8\n",
    "4a-B2H6 symmetry D2h\n",
    " B                  0.00000000    0.00000000   -0.87910400\n",
    " B                  0.00000000    0.00000000    0.87910400\n",
    " H                 -1.03479438    0.00000000   -1.45674000\n",
    " H                  0.00000000    0.97384824   -0.00000000\n",
    " H                  1.03479438    0.00000000   -1.45674000\n",
    " H                  0.00000000   -0.97384824   -0.00000000\n",
    " H                  1.03479438    0.00000000    1.45674000\n",
    " H                 -1.03479438    0.00000000    1.45674000\n",
    "\"\"\"\n",
    "\n",
    "xyz_without_header = \\\n",
    "\"\"\" B                  0.00000000    0.00000000   -0.87910400\n",
    " B                  0.00000000    0.00000000    0.87910400\n",
    " H                 -1.03479438    0.00000000   -1.45674000\n",
    " H                  0.00000000    0.97384824   -0.00000000\n",
    " H                  1.03479438    0.00000000   -1.45674000\n",
    " H                  0.00000000   -0.97384824   -0.00000000\n",
    " H                  1.03479438    0.00000000    1.45674000\n",
    " H                 -1.03479438    0.00000000    1.45674000\"\"\"\n",
    "######################################"
   ]
  },
  {
   "cell_type": "code",
   "execution_count": 3,
   "metadata": {},
   "outputs": [
    {
     "data": {
      "text/plain": [
       "'8\\n4a-B2H6 symmetry D2h\\n B                  0.00000000    0.00000000   -0.87910400\\n B                  0.00000000    0.00000000    0.87910400\\n H                 -1.03479438    0.00000000   -1.45674000\\n H                  0.00000000    0.97384824   -0.00000000\\n H                  1.03479438    0.00000000   -1.45674000\\n H                  0.00000000   -0.97384824   -0.00000000\\n H                  1.03479438    0.00000000    1.45674000\\n H                 -1.03479438    0.00000000    1.45674000\\n'"
      ]
     },
     "execution_count": 3,
     "metadata": {},
     "output_type": "execute_result"
    }
   ],
   "source": [
    "xyz"
   ]
  },
  {
   "cell_type": "markdown",
   "metadata": {},
   "source": [
    "## 2. Generate an Mol from xyz\n",
    "**Arguments:**\n",
    "- `backend`: choose the `openbabel` or `xyz2mol` backend\n",
    "- `header`: indicate if the str includes lines of atom number and title"
   ]
  },
  {
   "cell_type": "code",
   "execution_count": 4,
   "metadata": {},
   "outputs": [
    {
     "ename": "ValueError",
     "evalue": "Valence of atom 1 is 5, which is larger than the allowed maximum, 4",
     "output_type": "error",
     "traceback": [
      "\u001b[0;31m---------------------------------------------------------------------------\u001b[0m",
      "\u001b[0;31mValueError\u001b[0m                                Traceback (most recent call last)",
      "Cell \u001b[0;32mIn[4], line 2\u001b[0m\n\u001b[1;32m      1\u001b[0m \u001b[38;5;28;01mtry\u001b[39;00m:\n\u001b[0;32m----> 2\u001b[0m     mol \u001b[38;5;241m=\u001b[39m Mol\u001b[38;5;241m.\u001b[39mFromXYZ(xyz, backend\u001b[38;5;241m=\u001b[39m\u001b[38;5;124m'\u001b[39m\u001b[38;5;124mxyz2mol\u001b[39m\u001b[38;5;124m'\u001b[39m, header\u001b[38;5;241m=\u001b[39m\u001b[38;5;28;01mTrue\u001b[39;00m)\n\u001b[1;32m      3\u001b[0m     saturate_mol(\n\u001b[1;32m      4\u001b[0m         mol\n\u001b[1;32m      5\u001b[0m     )\n",
      "File \u001b[0;32m~/RDMC/rdmc/mol/transform.py:131\u001b[0m, in \u001b[0;36mMolFromMixin.FromXYZ\u001b[0;34m(cls, xyz, backend, header, sanitize, embed_chiral, **kwargs)\u001b[0m\n\u001b[1;32m    105\u001b[0m \u001b[38;5;250m\u001b[39m\u001b[38;5;124;03m\"\"\"\u001b[39;00m\n\u001b[1;32m    106\u001b[0m \u001b[38;5;124;03mConvert a xyz string to a new molecule object.\u001b[39;00m\n\u001b[1;32m    107\u001b[0m \n\u001b[0;32m   (...)\u001b[0m\n\u001b[1;32m    129\u001b[0m \u001b[38;5;124;03m        Mol: A molecule object corresponding to the xyz.\u001b[39;00m\n\u001b[1;32m    130\u001b[0m \u001b[38;5;124;03m\"\"\"\u001b[39;00m\n\u001b[0;32m--> 131\u001b[0m \u001b[38;5;28;01mreturn\u001b[39;00m \u001b[38;5;28mcls\u001b[39m(mol_from_xyz(xyz, backend, header, sanitize, embed_chiral, \u001b[38;5;241m*\u001b[39m\u001b[38;5;241m*\u001b[39mkwargs))\n",
      "File \u001b[0;32m~/RDMC/rdtools/conversion/xyz.py:224\u001b[0m, in \u001b[0;36mmol_from_xyz\u001b[0;34m(xyz, backend, header, sanitize, embed_chiral, **kwargs)\u001b[0m\n\u001b[1;32m    222\u001b[0m \u001b[38;5;28;01melif\u001b[39;00m backend\u001b[38;5;241m.\u001b[39mlower() \u001b[38;5;241m==\u001b[39m \u001b[38;5;124m\"\u001b[39m\u001b[38;5;124mxyz2mol\u001b[39m\u001b[38;5;124m\"\u001b[39m:\n\u001b[1;32m    223\u001b[0m     \u001b[38;5;66;03m# Sanitization is done inside the function\u001b[39;00m\n\u001b[0;32m--> 224\u001b[0m     \u001b[38;5;28;01mreturn\u001b[39;00m parse_xyz_by_xyz2mol(\n\u001b[1;32m    225\u001b[0m         xyz, embed_chiral\u001b[38;5;241m=\u001b[39membed_chiral, sanitize\u001b[38;5;241m=\u001b[39msanitize, \u001b[38;5;241m*\u001b[39m\u001b[38;5;241m*\u001b[39mkwargs\n\u001b[1;32m    226\u001b[0m     )\n\u001b[1;32m    228\u001b[0m \u001b[38;5;28;01melse\u001b[39;00m:\n",
      "File \u001b[0;32m~/RDMC/rdtools/conversion/xyz.py:127\u001b[0m, in \u001b[0;36mparse_xyz_by_xyz2mol\u001b[0;34m(xyz, charge, allow_charged_fragments, use_huckel, embed_chiral, use_atom_maps, original, sanitize, **kwargs)\u001b[0m\n\u001b[1;32m    126\u001b[0m \u001b[38;5;28;01melse\u001b[39;00m:\n\u001b[0;32m--> 127\u001b[0m     mol \u001b[38;5;241m=\u001b[39m parse_xyz_by_xyz2mol_rdkit_native(\n\u001b[1;32m    128\u001b[0m         xyz\u001b[38;5;241m=\u001b[39mxyz,\n\u001b[1;32m    129\u001b[0m         charge\u001b[38;5;241m=\u001b[39mcharge,\n\u001b[1;32m    130\u001b[0m         allow_charged_fragments\u001b[38;5;241m=\u001b[39mallow_charged_fragments,\n\u001b[1;32m    131\u001b[0m         use_huckel\u001b[38;5;241m=\u001b[39muse_huckel,\n\u001b[1;32m    132\u001b[0m         embed_chiral\u001b[38;5;241m=\u001b[39membed_chiral,\n\u001b[1;32m    133\u001b[0m         use_atom_maps\u001b[38;5;241m=\u001b[39muse_atom_maps,\n\u001b[1;32m    134\u001b[0m     )\n\u001b[1;32m    136\u001b[0m \u001b[38;5;28;01mif\u001b[39;00m sanitize:\n",
      "File \u001b[0;32m~/RDMC/rdtools/conversion/xyz.py:75\u001b[0m, in \u001b[0;36mparse_xyz_by_xyz2mol_rdkit_native\u001b[0;34m(xyz, charge, allow_charged_fragments, use_huckel, embed_chiral, use_atom_maps)\u001b[0m\n\u001b[1;32m     70\u001b[0m rdDetermineBonds\u001b[38;5;241m.\u001b[39mDetermineConnectivity(\n\u001b[1;32m     71\u001b[0m     mol,\n\u001b[1;32m     72\u001b[0m     useHueckel\u001b[38;5;241m=\u001b[39muse_huckel,\n\u001b[1;32m     73\u001b[0m     charge\u001b[38;5;241m=\u001b[39mcharge,\n\u001b[1;32m     74\u001b[0m )\n\u001b[0;32m---> 75\u001b[0m rdDetermineBonds\u001b[38;5;241m.\u001b[39mDetermineBondOrders(\n\u001b[1;32m     76\u001b[0m     mol,\n\u001b[1;32m     77\u001b[0m     charge\u001b[38;5;241m=\u001b[39mcharge,\n\u001b[1;32m     78\u001b[0m     allowChargedFragments\u001b[38;5;241m=\u001b[39mallow_charged_fragments,\n\u001b[1;32m     79\u001b[0m     embedChiral\u001b[38;5;241m=\u001b[39membed_chiral,\n\u001b[1;32m     80\u001b[0m     useAtomMap\u001b[38;5;241m=\u001b[39muse_atom_maps,\n\u001b[1;32m     81\u001b[0m )\n\u001b[1;32m     82\u001b[0m \u001b[38;5;28;01mreturn\u001b[39;00m mol\n",
      "\u001b[0;31mValueError\u001b[0m: Valence of atom 1 is 5, which is larger than the allowed maximum, 4",
      "\nDuring handling of the above exception, another exception occurred:\n",
      "\u001b[0;31mValueError\u001b[0m                                Traceback (most recent call last)",
      "Cell \u001b[0;32mIn[4], line 7\u001b[0m\n\u001b[1;32m      3\u001b[0m     saturate_mol(\n\u001b[1;32m      4\u001b[0m         mol\n\u001b[1;32m      5\u001b[0m     )\n\u001b[1;32m      6\u001b[0m \u001b[38;5;28;01mexcept\u001b[39;00m:\n\u001b[0;32m----> 7\u001b[0m     mol \u001b[38;5;241m=\u001b[39m Mol\u001b[38;5;241m.\u001b[39mFromXYZ(xyz, backend\u001b[38;5;241m=\u001b[39m\u001b[38;5;124m'\u001b[39m\u001b[38;5;124mxyz2mol\u001b[39m\u001b[38;5;124m'\u001b[39m, header\u001b[38;5;241m=\u001b[39m\u001b[38;5;28;01mTrue\u001b[39;00m, sanitize \u001b[38;5;241m=\u001b[39m \u001b[38;5;28;01mFalse\u001b[39;00m)\n\u001b[1;32m      8\u001b[0m     \u001b[38;5;28;01mtry\u001b[39;00m:\n\u001b[1;32m      9\u001b[0m         mol \u001b[38;5;241m=\u001b[39m Mol(\n\u001b[1;32m     10\u001b[0m             fix_mol(\n\u001b[1;32m     11\u001b[0m                 mol,\n\u001b[0;32m   (...)\u001b[0m\n\u001b[1;32m     14\u001b[0m                 sanitize\u001b[38;5;241m=\u001b[39m\u001b[38;5;28;01mTrue\u001b[39;00m,\n\u001b[1;32m     15\u001b[0m         ))\n",
      "File \u001b[0;32m~/RDMC/rdmc/mol/transform.py:131\u001b[0m, in \u001b[0;36mMolFromMixin.FromXYZ\u001b[0;34m(cls, xyz, backend, header, sanitize, embed_chiral, **kwargs)\u001b[0m\n\u001b[1;32m     95\u001b[0m \u001b[38;5;129m@classmethod\u001b[39m\n\u001b[1;32m     96\u001b[0m \u001b[38;5;28;01mdef\u001b[39;00m \u001b[38;5;21mFromXYZ\u001b[39m(\n\u001b[1;32m     97\u001b[0m     \u001b[38;5;28mcls\u001b[39m,\n\u001b[0;32m   (...)\u001b[0m\n\u001b[1;32m    103\u001b[0m     \u001b[38;5;241m*\u001b[39m\u001b[38;5;241m*\u001b[39mkwargs,\n\u001b[1;32m    104\u001b[0m ):\n\u001b[1;32m    105\u001b[0m \u001b[38;5;250m    \u001b[39m\u001b[38;5;124;03m\"\"\"\u001b[39;00m\n\u001b[1;32m    106\u001b[0m \u001b[38;5;124;03m    Convert a xyz string to a new molecule object.\u001b[39;00m\n\u001b[1;32m    107\u001b[0m \n\u001b[0;32m   (...)\u001b[0m\n\u001b[1;32m    129\u001b[0m \u001b[38;5;124;03m            Mol: A molecule object corresponding to the xyz.\u001b[39;00m\n\u001b[1;32m    130\u001b[0m \u001b[38;5;124;03m    \"\"\"\u001b[39;00m\n\u001b[0;32m--> 131\u001b[0m     \u001b[38;5;28;01mreturn\u001b[39;00m \u001b[38;5;28mcls\u001b[39m(mol_from_xyz(xyz, backend, header, sanitize, embed_chiral, \u001b[38;5;241m*\u001b[39m\u001b[38;5;241m*\u001b[39mkwargs))\n",
      "File \u001b[0;32m~/RDMC/rdtools/conversion/xyz.py:224\u001b[0m, in \u001b[0;36mmol_from_xyz\u001b[0;34m(xyz, backend, header, sanitize, embed_chiral, **kwargs)\u001b[0m\n\u001b[1;32m    220\u001b[0m     \u001b[38;5;28;01mreturn\u001b[39;00m parse_xyz_by_openbabel(xyz, embed_chiral\u001b[38;5;241m=\u001b[39membed_chiral, sanitize\u001b[38;5;241m=\u001b[39msanitize)\n\u001b[1;32m    222\u001b[0m \u001b[38;5;28;01melif\u001b[39;00m backend\u001b[38;5;241m.\u001b[39mlower() \u001b[38;5;241m==\u001b[39m \u001b[38;5;124m\"\u001b[39m\u001b[38;5;124mxyz2mol\u001b[39m\u001b[38;5;124m\"\u001b[39m:\n\u001b[1;32m    223\u001b[0m     \u001b[38;5;66;03m# Sanitization is done inside the function\u001b[39;00m\n\u001b[0;32m--> 224\u001b[0m     \u001b[38;5;28;01mreturn\u001b[39;00m parse_xyz_by_xyz2mol(\n\u001b[1;32m    225\u001b[0m         xyz, embed_chiral\u001b[38;5;241m=\u001b[39membed_chiral, sanitize\u001b[38;5;241m=\u001b[39msanitize, \u001b[38;5;241m*\u001b[39m\u001b[38;5;241m*\u001b[39mkwargs\n\u001b[1;32m    226\u001b[0m     )\n\u001b[1;32m    228\u001b[0m \u001b[38;5;28;01melse\u001b[39;00m:\n\u001b[1;32m    229\u001b[0m     \u001b[38;5;28;01mraise\u001b[39;00m \u001b[38;5;167;01mNotImplementedError\u001b[39;00m(\n\u001b[1;32m    230\u001b[0m         \u001b[38;5;124mf\u001b[39m\u001b[38;5;124m\"\u001b[39m\u001b[38;5;124mBackend (\u001b[39m\u001b[38;5;132;01m{\u001b[39;00mbackend\u001b[38;5;132;01m}\u001b[39;00m\u001b[38;5;124m) is not supported. Only `openbabel` and `xyz2mol`\u001b[39m\u001b[38;5;124m\"\u001b[39m\n\u001b[1;32m    231\u001b[0m         \u001b[38;5;124mf\u001b[39m\u001b[38;5;124m\"\u001b[39m\u001b[38;5;124m are supported.\u001b[39m\u001b[38;5;124m\"\u001b[39m\n\u001b[1;32m    232\u001b[0m     )\n",
      "File \u001b[0;32m~/RDMC/rdtools/conversion/xyz.py:127\u001b[0m, in \u001b[0;36mparse_xyz_by_xyz2mol\u001b[0;34m(xyz, charge, allow_charged_fragments, use_huckel, embed_chiral, use_atom_maps, original, sanitize, **kwargs)\u001b[0m\n\u001b[1;32m    117\u001b[0m     mol \u001b[38;5;241m=\u001b[39m parse_xyz_by_xyz2mol_rdmc(\n\u001b[1;32m    118\u001b[0m         xyz\u001b[38;5;241m=\u001b[39mxyz,\n\u001b[1;32m    119\u001b[0m         charge\u001b[38;5;241m=\u001b[39mcharge,\n\u001b[0;32m   (...)\u001b[0m\n\u001b[1;32m    124\u001b[0m         use_atom_maps\u001b[38;5;241m=\u001b[39muse_atom_maps,\n\u001b[1;32m    125\u001b[0m     )\n\u001b[1;32m    126\u001b[0m \u001b[38;5;28;01melse\u001b[39;00m:\n\u001b[0;32m--> 127\u001b[0m     mol \u001b[38;5;241m=\u001b[39m parse_xyz_by_xyz2mol_rdkit_native(\n\u001b[1;32m    128\u001b[0m         xyz\u001b[38;5;241m=\u001b[39mxyz,\n\u001b[1;32m    129\u001b[0m         charge\u001b[38;5;241m=\u001b[39mcharge,\n\u001b[1;32m    130\u001b[0m         allow_charged_fragments\u001b[38;5;241m=\u001b[39mallow_charged_fragments,\n\u001b[1;32m    131\u001b[0m         use_huckel\u001b[38;5;241m=\u001b[39muse_huckel,\n\u001b[1;32m    132\u001b[0m         embed_chiral\u001b[38;5;241m=\u001b[39membed_chiral,\n\u001b[1;32m    133\u001b[0m         use_atom_maps\u001b[38;5;241m=\u001b[39muse_atom_maps,\n\u001b[1;32m    134\u001b[0m     )\n\u001b[1;32m    136\u001b[0m \u001b[38;5;28;01mif\u001b[39;00m sanitize:\n\u001b[1;32m    137\u001b[0m     Chem\u001b[38;5;241m.\u001b[39mSanitizeMol(mol)\n",
      "File \u001b[0;32m~/RDMC/rdtools/conversion/xyz.py:75\u001b[0m, in \u001b[0;36mparse_xyz_by_xyz2mol_rdkit_native\u001b[0;34m(xyz, charge, allow_charged_fragments, use_huckel, embed_chiral, use_atom_maps)\u001b[0m\n\u001b[1;32m     69\u001b[0m \u001b[38;5;66;03m# Multi-atom molecule\u001b[39;00m\n\u001b[1;32m     70\u001b[0m rdDetermineBonds\u001b[38;5;241m.\u001b[39mDetermineConnectivity(\n\u001b[1;32m     71\u001b[0m     mol,\n\u001b[1;32m     72\u001b[0m     useHueckel\u001b[38;5;241m=\u001b[39muse_huckel,\n\u001b[1;32m     73\u001b[0m     charge\u001b[38;5;241m=\u001b[39mcharge,\n\u001b[1;32m     74\u001b[0m )\n\u001b[0;32m---> 75\u001b[0m rdDetermineBonds\u001b[38;5;241m.\u001b[39mDetermineBondOrders(\n\u001b[1;32m     76\u001b[0m     mol,\n\u001b[1;32m     77\u001b[0m     charge\u001b[38;5;241m=\u001b[39mcharge,\n\u001b[1;32m     78\u001b[0m     allowChargedFragments\u001b[38;5;241m=\u001b[39mallow_charged_fragments,\n\u001b[1;32m     79\u001b[0m     embedChiral\u001b[38;5;241m=\u001b[39membed_chiral,\n\u001b[1;32m     80\u001b[0m     useAtomMap\u001b[38;5;241m=\u001b[39muse_atom_maps,\n\u001b[1;32m     81\u001b[0m )\n\u001b[1;32m     82\u001b[0m \u001b[38;5;28;01mreturn\u001b[39;00m mol\n",
      "\u001b[0;31mValueError\u001b[0m: Valence of atom 1 is 5, which is larger than the allowed maximum, 4"
     ]
    }
   ],
   "source": [
    "try:\n",
    "    mol = Mol.FromXYZ(xyz, backend='xyz2mol', header=True)\n",
    "    saturate_mol(\n",
    "        mol\n",
    "    )\n",
    "except:\n",
    "    mol = Mol.FromXYZ(xyz, backend='xyz2mol', header=True, sanitize = False)\n",
    "    try:\n",
    "        mol = Mol(\n",
    "            fix_mol(\n",
    "                mol,\n",
    "                remedies=remedy_manager.all_remedies,\n",
    "                fix_spin_multiplicity=True,\n",
    "                sanitize=True,\n",
    "        ))\n",
    "    except:\n",
    "        raise\n",
    "        "
   ]
  },
  {
   "cell_type": "code",
   "execution_count": null,
   "metadata": {},
   "outputs": [],
   "source": [
    "mol = Mol.FromXYZ(xyz, backend='openbabel', header=True)"
   ]
  },
  {
   "cell_type": "code",
   "execution_count": null,
   "metadata": {},
   "outputs": [],
   "source": [
    "mol"
   ]
  },
  {
   "cell_type": "markdown",
   "metadata": {},
   "source": [
    "Next is an example of parsing XYZ without the first two lines (e.g., extracted from gaussian output), where `header` is set to `False`. Please set the `header` arguments correctly according to the input xyz."
   ]
  },
  {
   "cell_type": "markdown",
   "metadata": {},
   "source": [
    "Use `xyz2mol` backend. For most cases, xyz2mol's method returns the same molecule as using `openbabel` backend"
   ]
  },
  {
   "cell_type": "code",
   "execution_count": null,
   "metadata": {},
   "outputs": [],
   "source": [
    "Mol.FromXYZ(xyz, backend='xyz2mol', header=True)"
   ]
  },
  {
   "cell_type": "markdown",
   "metadata": {},
   "source": [
    "The optional arguments for the xyz2mol method are provided. Note, RDKit starts to have a native xyz2mol since version 2022.09, but you can choose to use the original python version (with minor modifications to work with RDMC) with `force_rdmc = True`. The reason to support both is that (1) we introduce the python version to rdmc since 2021 and (2) RDKit's native is not always reliable (e.g., rdkit-2023.09.6-macosarm64 version run into erros)"
   ]
  },
  {
   "cell_type": "markdown",
   "metadata": {},
   "source": [
    "## 3. Check the coordinates of the molecule and visualize it"
   ]
  },
  {
   "cell_type": "code",
   "execution_count": null,
   "metadata": {},
   "outputs": [],
   "source": [
    "mol = Mol.FromXYZ(xyz)\n",
    "print(f'xyz coordinate: \\n{mol.GetPositions(confId=0)}')"
   ]
  },
  {
   "cell_type": "markdown",
   "metadata": {},
   "source": [
    "## 4. Export XYZ"
   ]
  },
  {
   "cell_type": "code",
   "execution_count": null,
   "metadata": {},
   "outputs": [],
   "source": [
    "print(mol.ToXYZ(header=False))"
   ]
  },
  {
   "cell_type": "code",
   "execution_count": null,
   "metadata": {},
   "outputs": [],
   "source": [
    "mol.ToSmiles()"
   ]
  },
  {
   "cell_type": "code",
   "execution_count": null,
   "metadata": {},
   "outputs": [],
   "source": [
    "mol.ToMol()"
   ]
  },
  {
   "cell_type": "code",
   "execution_count": null,
   "metadata": {},
   "outputs": [],
   "source": [
    "dir(mol)"
   ]
  },
  {
   "cell_type": "code",
   "execution_count": null,
   "metadata": {},
   "outputs": [],
   "source": []
  }
 ],
 "metadata": {
  "@webio": {
   "lastCommId": null,
   "lastKernelId": null
  },
  "kernelspec": {
   "display_name": "Python 3 (ipykernel)",
   "language": "python",
   "name": "python3"
  },
  "language_info": {
   "codemirror_mode": {
    "name": "ipython",
    "version": 3
   },
   "file_extension": ".py",
   "mimetype": "text/x-python",
   "name": "python",
   "nbconvert_exporter": "python",
   "pygments_lexer": "ipython3",
   "version": "3.11.9"
  }
 },
 "nbformat": 4,
 "nbformat_minor": 4
}
